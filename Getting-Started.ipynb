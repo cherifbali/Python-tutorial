{
  "cells": [
    {
      "cell_type": "markdown",
      "metadata": {
        "id": "yCrhhApBMJr0"
      },
      "source": [
        "<a id=start></a>\n",
        "# Python Install ⏬💿\n",
        "check if already installed \n",
        "\n",
        "\n",
        "```\n",
        "$ python --version\n",
        "```\n",
        "\n",
        "Otherwise, donload and install it [www.python.org](https://www.python.org/)\n",
        "\n",
        "Test it\n",
        "\n",
        "\n",
        "```\n",
        "$ python --version\n",
        "Python 3.7.13\n",
        "$ python\n",
        ">>>  print(\"Hello, World\")\n",
        "Hello, World\n",
        "```\n",
        "Or, use this online Colab plateforme!"
      ]
    },
    {
      "cell_type": "code",
      "execution_count": 1,
      "metadata": {
        "colab": {
          "base_uri": "https://localhost:8080/"
        },
        "id": "p06SHjICMa-B",
        "outputId": "17ab65af-9070-4e4b-a622-37f51654dc2d"
      },
      "outputs": [
        {
          "name": "stdout",
          "output_type": "stream",
          "text": [
            "Python 3.9.1\n",
            "Hello, World\n"
          ]
        }
      ],
      "source": [
        "! python --version\n",
        "print(\"Hello, World\")"
      ]
    }
  ],
  "metadata": {
    "colab": {
      "collapsed_sections": [],
      "provenance": []
    },
    "kernelspec": {
      "display_name": "Python 3.9.1 64-bit",
      "language": "python",
      "name": "python3"
    },
    "language_info": {
      "codemirror_mode": {
        "name": "ipython",
        "version": 3
      },
      "file_extension": ".py",
      "mimetype": "text/x-python",
      "name": "python",
      "nbconvert_exporter": "python",
      "pygments_lexer": "ipython3",
      "version": "3.9.1"
    },
    "vscode": {
      "interpreter": {
        "hash": "f1b06d30e20825e5dfd6799bd15ff52422ead1164ed60b8ad4d7aabebfe22365"
      }
    }
  },
  "nbformat": 4,
  "nbformat_minor": 0
}
