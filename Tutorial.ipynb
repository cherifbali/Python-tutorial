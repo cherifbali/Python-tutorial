{
  "nbformat": 4,
  "nbformat_minor": 0,
  "metadata": {
    "colab": {
      "provenance": [],
      "collapsed_sections": []
    },
    "kernelspec": {
      "name": "python3",
      "display_name": "Python 3"
    },
    "language_info": {
      "name": "python"
    }
  },
  "cells": [
    {
      "cell_type": "markdown",
      "source": [
        "# Python Programming language 💻\n",
        "## **Content**\n",
        "* ### [Introduction](#intro)\n",
        "* ### [Getting Started](#start)\n",
        "* ### [Syntax](#syntax)\n",
        "* ### Variables\n",
        "* ### Operations\n",
        "* ### Srings\n",
        " * #### Slicing\n",
        " * #### String methods\n",
        "* ### Functions\n",
        "* ### Classes\n",
        "* ### Data Strutures\n",
        " * #### Lists\n",
        " * #### Tuples\n",
        " * #### Dicionary\n",
        " * #### Sets\n",
        "* Files\n",
        "* Modules\n",
        "\n"
      ],
      "metadata": {
        "id": "Wh6oW4q1CVQ8"
      }
    },
    {
      "cell_type": "markdown",
      "source": [
        "#  <a id='intro'>Introduction</a>\n",
        "## What is Python ❔\n",
        "Python is a popular programming language. It was created by Guido van Rossum, and released in 1991.\n",
        "\n",
        "**It is used for:**\n",
        "* web development (server-side) like Django fw\n",
        "* software development\n",
        "* mathematics, Data science and Machine Leaning\n",
        "* system scripting\n",
        "\n",
        "## What can Python do?\n",
        "* Python can be used on a server to create web applications.\n",
        "* Python can be used alongside software to create workflows.\n",
        "* Python can connect to database systems. It can also read and modify files.\n",
        "* Python can be used to handle big data and perform complex mathematics.\n",
        "* Python can be used for rapid prototyping, or for production-ready software development.\n",
        "\n",
        "## Why Python?\n",
        "* Python works on different platforms (Windows, Mac, Linux, Raspberry Pi, etc).\n",
        "* Python has a simple syntax similar to the English language.\n",
        "* Python has syntax that allows developers to write programs with fewer lines than some other programming languages.\n",
        "* Python runs on an interpreter system, meaning that code can be executed as * * soon as it is written. This means that prototyping can be very quick.\n",
        "* Python can be treated in a procedural way, an object-oriented way or a functional way.\n",
        "\n",
        "## Good to know\n",
        "* In this tutorial Python will be written in a Notebook. It is possible to write Python in an Integrated Development Environment, such as Thonny, Pycharm, Netbeans or Eclipse which are particularly useful when managing larger collections of Python files.\n",
        "\n",
        "## Python Syntax compared to other programming languages\n",
        "* Python was designed for readability, and has some similarities to the English language with influence from mathematics.\n",
        "* Python uses new lines to complete a command, as opposed to other programming languages which often use semicolons or parentheses.\n",
        "* Python relies on indentation, using whitespace, to define scope; such as the scope of loops, functions and classes. Other programming languages often use curly-brackets for this purpose."
      ],
      "metadata": {
        "id": "Iaxu5dv0J3Vb"
      }
    },
    {
      "cell_type": "code",
      "execution_count": null,
      "metadata": {
        "id": "fo2hizWT7Y0L"
      },
      "outputs": [],
      "source": []
    },
    {
      "cell_type": "markdown",
      "source": [
        "<a id=start></a>\n",
        "# Python Install ⏬💿\n",
        "check if already installed \n",
        "\n",
        "\n",
        "```\n",
        "$ python --version\n",
        "```\n",
        "\n",
        "Otherwise, donload and install it [www.python.org](https://www.python.org/)\n",
        "\n",
        "Test it\n",
        "\n",
        "\n",
        "```\n",
        "$ python --version\n",
        "Python 3.7.13\n",
        "$ python\n",
        ">>>  print(\"Hello, World\")\n",
        "Hello, World\n",
        "```\n",
        "Or, use this online Colab plateforme!"
      ],
      "metadata": {
        "id": "yCrhhApBMJr0"
      }
    },
    {
      "cell_type": "code",
      "source": [
        "! python --version\n",
        "print(\"Hello, World\")"
      ],
      "metadata": {
        "id": "p06SHjICMa-B",
        "colab": {
          "base_uri": "https://localhost:8080/"
        },
        "outputId": "17ab65af-9070-4e4b-a622-37f51654dc2d"
      },
      "execution_count": null,
      "outputs": [
        {
          "output_type": "stream",
          "name": "stdout",
          "text": [
            "Python 3.7.13\n",
            "Hello, World\n"
          ]
        }
      ]
    },
    {
      "cell_type": "markdown",
      "source": [
        "\n",
        "# Syntax ✅\n",
        "\n",
        "### Python uses indentation to indicate a block of code.\n",
        "\n",
        "\n",
        "```\n",
        "while Condition ✅:\n",
        "    do this ❎\n",
        "    and this ❎\n",
        "    plus this ❎\n",
        "Not this ❌\n",
        "```\n",
        "\n",
        "\n",
        "### Define variable\n",
        "\n",
        "\n",
        "\n",
        "```\n",
        "a = 1\n",
        "name = 'Che'\n",
        "a = \"Hola this String Replaced the integer 1, with no problem ✅\"\n",
        "\n",
        "```\n",
        "\n",
        "## Commments 📓\n"
      ],
      "metadata": {
        "id": "EIUO33iQUFxc"
      }
    },
    {
      "cell_type": "code",
      "source": [
        "# This is a Comment in python\n",
        "# print(\" ** Impossible ** \") ⛔\n",
        "print(\" ** Possible ** \")    #✅"
      ],
      "metadata": {
        "colab": {
          "base_uri": "https://localhost:8080/"
        },
        "id": "ZgkY2nQ4basO",
        "outputId": "ee12a6fb-ee96-4a2f-c7bf-da505a31bf84"
      },
      "execution_count": null,
      "outputs": [
        {
          "output_type": "stream",
          "name": "stdout",
          "text": [
            " ** Possible ** \n"
          ]
        }
      ]
    },
    {
      "cell_type": "code",
      "source": [
        "x, y, z = \"Orange\", \"Banana\", \"Cherry\" # assin multiple variables\n",
        "print(x)\n",
        "print(y)\n",
        "print(z)"
      ],
      "metadata": {
        "colab": {
          "base_uri": "https://localhost:8080/"
        },
        "id": "7-UgBwmhctbG",
        "outputId": "33ba3a8d-917d-4153-d81f-e5e2f08cf446"
      },
      "execution_count": null,
      "outputs": [
        {
          "output_type": "stream",
          "name": "stdout",
          "text": [
            "Orange\n",
            "Banana\n",
            "Cherry\n"
          ]
        }
      ]
    },
    {
      "cell_type": "code",
      "source": [
        "x = y = z = \"Orange\"  # assign same value to multiple variables\n",
        "print(x)\n",
        "print(y)\n",
        "print(z)"
      ],
      "metadata": {
        "colab": {
          "base_uri": "https://localhost:8080/"
        },
        "id": "j5s2SkIFc0Jl",
        "outputId": "fa12f34a-0eff-4123-ddf3-91efc232a47d"
      },
      "execution_count": null,
      "outputs": [
        {
          "output_type": "stream",
          "name": "stdout",
          "text": [
            "Orange\n",
            "Orange\n",
            "Orange\n"
          ]
        }
      ]
    },
    {
      "cell_type": "code",
      "source": [
        "fruits = [\"apple\", \"banana\", \"cherry\"]  # Unpack to variables\n",
        "x, y, z = fruits\n",
        "print(x)\n",
        "print(y)\n",
        "print(z)"
      ],
      "metadata": {
        "colab": {
          "base_uri": "https://localhost:8080/"
        },
        "id": "JErGBGWOdA4t",
        "outputId": "eba1cfcf-8107-490d-a592-13290b6a3f74"
      },
      "execution_count": null,
      "outputs": [
        {
          "output_type": "stream",
          "name": "stdout",
          "text": [
            "apple\n",
            "banana\n",
            "cherry\n"
          ]
        }
      ]
    },
    {
      "cell_type": "markdown",
      "source": [
        "# Variables\n",
        "\n",
        "### Creating Variables\n",
        "Python has no command for declaring a variable.\n",
        "A variable is created the moment you first assign a value to it.\n",
        "\n",
        "\n",
        "\n",
        "```\n",
        "name = 'Cherif'\n",
        "age = '28yo'\n",
        "print('my name is ', name)\n",
        "print('I am ', age)\n",
        "```\n"
      ],
      "metadata": {
        "id": "94I3r6iVWgIh"
      }
    },
    {
      "cell_type": "markdown",
      "source": [
        "### Ouput variable\n",
        "use print function \n",
        "\n",
        "\n",
        "```\n",
        "x = \"Python is awesome\"\n",
        "print(x)\n",
        "```\n",
        "\n"
      ],
      "metadata": {
        "id": "4g_cwZKpdVAY"
      }
    },
    {
      "cell_type": "code",
      "source": [
        "x = \"Python is awesome\"\n",
        "print(x)"
      ],
      "metadata": {
        "colab": {
          "base_uri": "https://localhost:8080/"
        },
        "id": "W4goBUyNdUAF",
        "outputId": "aae9e50a-5bdf-4312-8cea-03849e58ee26"
      },
      "execution_count": null,
      "outputs": [
        {
          "output_type": "stream",
          "name": "stdout",
          "text": [
            "Python is awesome\n"
          ]
        }
      ]
    },
    {
      "cell_type": "code",
      "source": [
        "x = \"Python\"\n",
        "y = \"is\"\n",
        "z = \"awesome\"\n",
        "print(x, y, z)"
      ],
      "metadata": {
        "colab": {
          "base_uri": "https://localhost:8080/"
        },
        "id": "hN3UDOMTdljm",
        "outputId": "07603278-ad5a-48a5-b856-e048d20f3a75"
      },
      "execution_count": null,
      "outputs": [
        {
          "output_type": "stream",
          "name": "stdout",
          "text": [
            "Python is awesome\n"
          ]
        }
      ]
    },
    {
      "cell_type": "code",
      "source": [
        "name = 'Cherif'\n",
        "age = '28yo'\n",
        "print('my name is ', name)\n",
        "print('I am ', age)"
      ],
      "metadata": {
        "colab": {
          "base_uri": "https://localhost:8080/"
        },
        "id": "OziOu6sxUFXs",
        "outputId": "ca25755c-c2be-44bc-cce7-98b91eef3942"
      },
      "execution_count": null,
      "outputs": [
        {
          "output_type": "stream",
          "name": "stdout",
          "text": [
            "my name is  Cherif\n",
            "I am  28yo\n"
          ]
        }
      ]
    },
    {
      "cell_type": "markdown",
      "source": [
        "### Casting 🟥 ➡ 🔵\n",
        "If you want to specify the data type of a variable, this can be done with casting.\n",
        "\n",
        "\n",
        "```\n",
        "a = str(7)    # a will be '7'\n",
        "b = int(7)    # b will be 7\n",
        "c = float(7)  # c will be 7.0\n",
        "\n",
        "```\n",
        "### Get the Type\n",
        "You can get the data type of a variable with the type() function."
      ],
      "metadata": {
        "id": "NsvmH9piX0TG"
      }
    },
    {
      "cell_type": "code",
      "source": [
        "a = str(7)    # a will be '7'\n",
        "b = int(7)    # b will be 7\n",
        "c = float(7)  # c will be 7.0"
      ],
      "metadata": {
        "id": "tFcKKg8tSf6O"
      },
      "execution_count": null,
      "outputs": []
    },
    {
      "cell_type": "code",
      "source": [
        "print(type(a))\n",
        "print(type(b))\n",
        "print(type(c))"
      ],
      "metadata": {
        "colab": {
          "base_uri": "https://localhost:8080/"
        },
        "id": "NKHdtSe0bzig",
        "outputId": "6ce0cc86-5c26-451f-8aa8-abe645332562"
      },
      "execution_count": null,
      "outputs": [
        {
          "output_type": "stream",
          "name": "stdout",
          "text": [
            "<class 'str'>\n",
            "<class 'int'>\n",
            "<class 'float'>\n"
          ]
        }
      ]
    },
    {
      "cell_type": "code",
      "source": [
        "x = int(1)   # x will be 1\n",
        "y = int(2.8) # y will be 2\n",
        "z = int(\"3\") # z will be 3\n",
        "# to float\n",
        "x = float(1)     # x will be 1.0\n",
        "y = float(2.8)   # y will be 2.8\n",
        "z = float(\"3\")   # z will be 3.0\n",
        "w = float(\"4.2\") # w will be 4.2\n",
        "# to String\n",
        "x = str(\"s1\") # x will be 's1'\n",
        "y = str(2)    # y will be '2'\n",
        "z = str(3.0)  # z will be '3.0'"
      ],
      "metadata": {
        "id": "4z07RhSub6Hd"
      },
      "execution_count": null,
      "outputs": []
    },
    {
      "cell_type": "markdown",
      "source": [
        "# Data Types\n",
        "Python has the following data types built-in by default, in these categories:\n",
        "\n",
        "\n",
        "\n",
        "*   Text Type: *str*\n",
        "*   Numeric Types:\t*int, float, complex*\n",
        "*   Sequence Types:\t*list, tuple, range*\n",
        "*    Mapping Type:\t*dict*\n",
        "*   Set Types:\t*set, frozenset*\n",
        "*   Boolean Type:\t*bool*\n",
        "*   Binary Types:\t*bytes, bytearray, memoryview*\n",
        "*   None Type:\t*NoneType*\n",
        "\n",
        "\n",
        "Example :\n",
        "\n",
        "```\n",
        "x = \"Hello World\"\t# str\t\n",
        "x = 20\t            # int\t\n",
        "x = 20.5\t        # float\t\n",
        "x = 1j\t            # complex\t\n",
        "x = [\"apple\", \"banana\", \"cherry\"]\t# list\t\n",
        "x = (\"apple\", \"banana\", \"cherry\")\t# tuple\t\n",
        "x = range(6)\t                    # range\t\n",
        "x = {\"name\" : \"John\", \"age\" : 36}\t# dict\t\n",
        "x = {\"apple\", \"banana\", \"cherry\"}\t# set\t\n",
        "x = frozenset({\"apple\", \"banana\", \"cherry\"})\t# frozenset\t\n",
        "x = True\t                    #bool\t\n",
        "x = b\"Hello\"\t              # bytes\t\n",
        "x = bytearray(5)\t          # bytearray\t\n",
        "x = memoryview(bytes(5))\t# memoryview\t\n",
        "x = None\t                # NoneType\n",
        "```\n",
        "\n",
        "\n",
        "\n",
        "\n",
        "\n"
      ],
      "metadata": {
        "id": "r9uPmMVyd230"
      }
    },
    {
      "cell_type": "code",
      "source": [
        "x = 1\n",
        "y = 35656222554887711\n",
        "z = -3255522\n",
        "\n",
        "print(type(x))\n",
        "print(type(y))\n",
        "print(type(z))\n",
        "\n",
        "x = 1.10\n",
        "y = 1.0\n",
        "z = -35.59\n",
        "\n",
        "print(type(x))\n",
        "print(type(y))\n",
        "print(type(z))\n",
        "\n",
        "x = 35e3\n",
        "y = 12E4\n",
        "z = -87.7e100\n",
        "\n",
        "print(type(x))\n",
        "print(type(y))\n",
        "print(type(z))\n",
        "\n",
        "x = 3+5j\n",
        "y = 5j\n",
        "z = -5j\n",
        "\n",
        "print(type(x))\n",
        "print(type(y))\n",
        "print(type(z))"
      ],
      "metadata": {
        "colab": {
          "base_uri": "https://localhost:8080/"
        },
        "id": "HEzyJTyIfIwt",
        "outputId": "ea61c10a-77c0-4684-c1d3-48b080da3ecc"
      },
      "execution_count": null,
      "outputs": [
        {
          "output_type": "stream",
          "name": "stdout",
          "text": [
            "<class 'int'>\n",
            "<class 'int'>\n",
            "<class 'int'>\n",
            "<class 'float'>\n",
            "<class 'float'>\n",
            "<class 'float'>\n",
            "<class 'float'>\n",
            "<class 'float'>\n",
            "<class 'float'>\n",
            "<class 'complex'>\n",
            "<class 'complex'>\n",
            "<class 'complex'>\n"
          ]
        }
      ]
    },
    {
      "cell_type": "code",
      "source": [
        "x = 1    # int\n",
        "y = 2.8  # float\n",
        "z = 1j   # complex\n",
        "\n",
        "#convert from int to float:\n",
        "a = float(x)\n",
        "\n",
        "#convert from float to int:\n",
        "b = int(y)\n",
        "\n",
        "#convert from int to complex:\n",
        "c = complex(x)\n",
        "\n",
        "print(a)\n",
        "print(b)\n",
        "print(c)\n",
        "\n",
        "print(type(a))\n",
        "print(type(b))\n",
        "print(type(c))"
      ],
      "metadata": {
        "colab": {
          "base_uri": "https://localhost:8080/"
        },
        "id": "njHFI9PGf4Id",
        "outputId": "489916fc-fa21-4869-f9ec-e3ea64aa3d7f"
      },
      "execution_count": null,
      "outputs": [
        {
          "output_type": "stream",
          "name": "stdout",
          "text": [
            "1.0\n",
            "2\n",
            "(1+0j)\n",
            "<class 'float'>\n",
            "<class 'int'>\n",
            "<class 'complex'>\n"
          ]
        }
      ]
    },
    {
      "cell_type": "markdown",
      "source": [
        "## Random Number\n",
        "Python does not have a random() function to make a random number, but Python has a built-in module called random that can be used to make random numbers\n",
        "\n",
        "\n",
        "```\n",
        "import random\n",
        "print(random.randrange(1, 10))\n",
        "```\n",
        "\n"
      ],
      "metadata": {
        "id": "l4nDt4dAgSdV"
      }
    },
    {
      "cell_type": "code",
      "source": [],
      "metadata": {
        "id": "xtEtD96igIWs"
      },
      "execution_count": null,
      "outputs": []
    },
    {
      "cell_type": "markdown",
      "source": [
        "# Strings ⛓\n",
        "Strings in python are surrounded by either single quotation marks, or double quotation marks.\n",
        "\n",
        "'hello' is the same as \"hello\".\n",
        "\n",
        "You can display a string literal with the print() function.\n",
        "\n",
        "assign string to variable a\n",
        "```\n",
        "a = \"Hello\"\n",
        "print(a)\n",
        "```\n",
        "You can assign a multiline string to a variable by using three quotes\n",
        "\n",
        "\n",
        "```\n",
        "a = '''Lorem ipsum dolor sit amet,\n",
        "consectetur adipiscing elit,\n",
        "sed do eiusmod tempor incididunt\n",
        "ut labore et dolore magna aliqua.'''\n",
        "print(a)\n",
        "```\n",
        "\n",
        "\n"
      ],
      "metadata": {
        "id": "LS483HaLhEJ3"
      }
    },
    {
      "cell_type": "markdown",
      "source": [
        "### Strings are Arrays ✔\n",
        "```\n",
        "a = \"Hello, World\"\n",
        "print(a[0])  # will output first character 'H'\n",
        "```\n",
        "\n",
        "### We can slice a String ✂\n",
        "print the five first chars:\n",
        "```\n",
        "a = \"Hello, World\"\n",
        "print(a[:5])  # will output 5 first character 'Hello' 🙋 \n",
        "```"
      ],
      "metadata": {
        "id": "2ThC2qk_hu2k"
      }
    },
    {
      "cell_type": "code",
      "source": [
        "a = \"Hello, World\"\n",
        "print(a[:5])  # will output 5 first character 'Hello' 🙋"
      ],
      "metadata": {
        "colab": {
          "base_uri": "https://localhost:8080/"
        },
        "id": "uAnyJjL_hhzy",
        "outputId": "cde936b3-8640-436c-b049-83819a9549e2"
      },
      "execution_count": null,
      "outputs": [
        {
          "output_type": "stream",
          "name": "stdout",
          "text": [
            "Hello\n"
          ]
        }
      ]
    },
    {
      "cell_type": "code",
      "source": [
        "print(a[-5:])  # will output the 5 Last character 'World' 🪐"
      ],
      "metadata": {
        "colab": {
          "base_uri": "https://localhost:8080/"
        },
        "id": "4ooV2Pxhi6fb",
        "outputId": "366a1bfb-e30d-42da-a054-5fb66fd79b2d"
      },
      "execution_count": null,
      "outputs": [
        {
          "output_type": "stream",
          "name": "stdout",
          "text": [
            "World\n"
          ]
        }
      ]
    },
    {
      "cell_type": "code",
      "source": [
        "print(a[-5::2])  # use step 2"
      ],
      "metadata": {
        "colab": {
          "base_uri": "https://localhost:8080/"
        },
        "id": "R4hJsf1Sjah8",
        "outputId": "b51cf00e-e4c0-424c-922d-a29aec9e73c9"
      },
      "execution_count": null,
      "outputs": [
        {
          "output_type": "stream",
          "name": "stdout",
          "text": [
            "Wrd\n"
          ]
        }
      ]
    },
    {
      "cell_type": "code",
      "source": [
        "print(a[::-1])  # reverse it"
      ],
      "metadata": {
        "colab": {
          "base_uri": "https://localhost:8080/"
        },
        "id": "Kik-FEu-j_fk",
        "outputId": "85bcb3a1-cdf8-4b15-b50c-5aae714f25e9"
      },
      "execution_count": null,
      "outputs": [
        {
          "output_type": "stream",
          "name": "stdout",
          "text": [
            "dlroW ,olleH\n"
          ]
        }
      ]
    },
    {
      "cell_type": "markdown",
      "source": [
        "### Looping Through a String\n",
        "\n",
        "Since strings are arrays, we can loop through the characters in a string, with a for loop."
      ],
      "metadata": {
        "id": "yEceEs2fkbnM"
      }
    },
    {
      "cell_type": "markdown",
      "source": [
        "### String Length\n",
        "\n",
        "To get the length of a string, use the len() function."
      ],
      "metadata": {
        "id": "ojtrl9qmkdAZ"
      }
    },
    {
      "cell_type": "markdown",
      "source": [
        "### Check String\n",
        "\n",
        "To check if a certain phrase or character is present in a string, we can use the keyword in."
      ],
      "metadata": {
        "id": "BhslknfHktMU"
      }
    },
    {
      "cell_type": "markdown",
      "source": [
        "### String Method\n",
        "The ***replace()*** method replaces a string with another string:\n",
        "```\n",
        "a = \"Hello, World!\"\n",
        "print(a.replace(\"H\", \"J\"))\n",
        "```\n",
        "The ***split()*** method returns a list where the text between the specified separator becomes the list items.\n",
        "```\n",
        "a = \"Hello, World!\"\n",
        "print(a.split(\",\")) # returns ['Hello', ' World!']\n",
        "```\n",
        "To concatenate, or combine, two or more strings you can use the + operator.\n",
        "\n",
        "```\n",
        "a = \"Hello\"\n",
        "b = \"World\"\n",
        "c = a + \" \" + b\n",
        "print(c)\n",
        "```\n",
        "String Fomatting \n",
        "Use the ***format()*** method to insert numbers into strings:\n",
        "\n",
        "```\n",
        "age = 36\n",
        "txt = \"My name is John, and I am {}\"\n",
        "print(txt.format(age))\n",
        "```\n",
        "\n",
        "```\n",
        "quantity = 3\n",
        "itemno = 567\n",
        "price = 49.95\n",
        "myorder = \"I want to pay {2} dollars for {0} pieces of item {1}.\"\n",
        "print(myorder.format(quantity, itemno, price))\n",
        "```\n",
        "\n"
      ],
      "metadata": {
        "id": "YkBn75YQlEzD"
      }
    },
    {
      "cell_type": "markdown",
      "source": [
        "## More String Methods\n",
        "Method\tDescription\n",
        "\n",
        "<table class=\"ws-table-all notranslate\">\n",
        "<tbody><tr>\n",
        "<th>Method</th>\n",
        "<th>Description</th>\n",
        "</tr>\n",
        "  <tr>\n",
        "    <td><a >capitalize()</a></td><td>Converts the first \n",
        "    character to upper case</td>\n",
        "  </tr>\n",
        "  <tr>\n",
        "    <td><a >casefold()</a></td><td>Converts string into \n",
        "    lower case</td>\n",
        "  </tr>\n",
        "  <tr>\n",
        "    <td><a >center()</a></td><td>Returns a centered \n",
        "    string</td>\n",
        "  </tr>\n",
        "  <tr>\n",
        "    <td><a >count()</a></td><td>Returns the number of \n",
        "    times a specified value occurs in a string</td>\n",
        "  </tr>\n",
        "  <tr>\n",
        "    <td><a >encode()</a></td><td>Returns an encoded \n",
        "    version of the string</td>\n",
        "  </tr>\n",
        "  <tr>\n",
        "    <td><a >endswith()</a></td><td>Returns true if the \n",
        "    string ends with the specified value</td>\n",
        "  </tr>\n",
        "  <tr>\n",
        "    <td><a>expandtabs()</a></td><td>Sets the \n",
        "    tab size of the string</td>\n",
        "  </tr>\n",
        "  <tr>\n",
        "    <td><a>find()</a></td><td>Searches the string for a \n",
        "    specified value and returns the position of where it was found</td>\n",
        "  </tr>\n",
        "  <tr>\n",
        "    <td><a >format()</a></td><td>Formats specified \n",
        "    values in a string</td>\n",
        "  </tr>\n",
        "  <tr>\n",
        "    <td>format_map()</td><td>Formats specified \n",
        "    values in a string</td>\n",
        "  </tr>\n",
        "  <tr>\n",
        "    <td><a >index()</a></td><td>Searches the string \n",
        "    for a specified value and returns the position of where it was found</td>\n",
        "  </tr>\n",
        "  <tr>\n",
        "    <td><a >isalnum()</a></td><td>Returns True if all \n",
        "    characters in the string are alphanumeric</td>\n",
        "  </tr>\n",
        "  <tr>\n",
        "    <td><a >isalpha()</a></td><td>Returns True if all \n",
        "    characters in the string are in the alphabet</td>\n",
        "  </tr>\n",
        "  <tr>\n",
        "    <td><a >isdecimal()</a></td><td>Returns True if all \n",
        "    characters in the string are decimals</td>\n",
        "  </tr>\n",
        "  <tr>\n",
        "    <td><a >isdigit()</a></td><td>Returns True if all \n",
        "    characters in the string are digits</td>\n",
        "  </tr>\n",
        "  <tr>\n",
        "    <td><a>isidentifier()</a></td><td>Returns True if \n",
        "    the string is an identifier</td>\n",
        "  </tr>\n",
        "  <tr>\n",
        "    <td><a>islower()</a></td><td>Returns True if all \n",
        "    characters in the string are lower case</td>\n",
        "  </tr>\n",
        "  <tr>\n",
        "    <td><a >isnumeric()</a></td><td>Returns True if \n",
        "    all characters in the string are numeric</td>\n",
        "  </tr>\n",
        "  <tr>\n",
        "    <td><a>isprintable()</a></td><td>Returns True if \n",
        "    all characters in the string are printable</td>\n",
        "  </tr>\n",
        "  <tr>\n",
        "    <td><a>isspace()</a></td><td>Returns True if all \n",
        "    characters in the string are whitespaces</td>\n",
        "  </tr>\n",
        "  <tr>\n",
        "    <td><a >istitle()</a></td>\n",
        "    <td>Returns True if the string follows the rules of a \n",
        "    title</td>\n",
        "  </tr>\n",
        "  <tr>\n",
        "    <td><a href=\"ref_string_isupper.asp\">isupper()</a></td><td>Returns True if all \n",
        "    characters in the string are upper case</td>\n",
        "  </tr>\n",
        "  <tr>\n",
        "    <td><a>join()</a></td><td>Joins the elements of \n",
        "    an iterable to the end of the string</td>\n",
        "  </tr>\n",
        "  <tr>\n",
        "    <td><a>ljust()</a></td><td>Returns a left justified \n",
        "    version of the string</td>\n",
        "  </tr>\n",
        "  <tr>\n",
        "    <td><a >lower()</a></td><td>Converts a string into \n",
        "    lower case</td>\n",
        "  </tr>\n",
        "  <tr>\n",
        "    <td><a >lstrip()</a></td><td>Returns a left trim \n",
        "    version of the string</td>\n",
        "  </tr>\n",
        "  <tr>\n",
        "    <td><a >maketrans()</a></td><td>Returns a \n",
        "    translation table to be used in translations</td>\n",
        "  </tr>\n",
        "  <tr>\n",
        "    <td><a >partition()</a></td><td>Returns a tuple \n",
        "    where the string is parted into three parts</td>\n",
        "  </tr>\n",
        "  <tr>\n",
        "    <td><a>replace()</a></td><td>Returns a string \n",
        "    where a specified value is replaced with a specified value</td>\n",
        "  </tr>\n",
        "  <tr>\n",
        "    <td><a >rfind()</a></td><td>Searches the string for \n",
        "    a specified value and returns the last position of where it was found</td>\n",
        "  </tr>\n",
        "  <tr>\n",
        "    <td><a >rindex()</a></td><td>Searches the string for \n",
        "    a specified value and returns the last position of where it was found</td>\n",
        "  </tr>\n",
        "  <tr>\n",
        "    <td><a >rjust()</a></td><td>Returns a right justified \n",
        "    version of the string</td>\n",
        "  </tr>\n",
        "  <tr>\n",
        "    <td><a >rpartition()</a></td><td>Returns a tuple \n",
        "    where the string is parted into three parts</td>\n",
        "  </tr>\n",
        "  <tr>\n",
        "    <td><a >rsplit()</a></td><td>Splits the string at \n",
        "    the specified separator, and returns a list</td>\n",
        "  </tr>\n",
        "  <tr>\n",
        "    <td><a >rstrip()</a></td><td>Returns a right trim \n",
        "    version of the string</td>\n",
        "  </tr>\n",
        "  <tr>\n",
        "    <td><a >split()</a></td><td>Splits the string at \n",
        "    the specified separator, and returns a list</td>\n",
        "  </tr>\n",
        "  <tr>\n",
        "    <td><a >splitlines()</a></td><td>Splits the string \n",
        "    at line breaks and returns a list</td>\n",
        "  </tr>\n",
        "  <tr>\n",
        "    <td><a >startswith()</a></td><td>Returns true if \n",
        "    the string starts with the specified value</td>\n",
        "  </tr>\n",
        "  <tr>\n",
        "    <td><a >strip()</a></td><td>Returns a trimmed version of the string</td>\n",
        "  </tr>\n",
        "  <tr>\n",
        "    <td><a >swapcase()</a></td><td>Swaps cases, lower \n",
        "    case becomes upper case and vice versa</td>\n",
        "  </tr>\n",
        "  <tr>\n",
        "    <td><a >title()</a></td><td>Converts the first \n",
        "    character of each word to upper case</td>\n",
        "  </tr>\n",
        "  <tr>\n",
        "    <td><a>translate()</a></td><td>Returns a \n",
        "    translated string</td>\n",
        "  </tr>\n",
        "  <tr>\n",
        "    <td><a>upper()</a></td><td>Converts a string \n",
        "    into upper case</td>\n",
        "  </tr>\n",
        "<tr><td><a>zfill()</a></td><td>Fills the string with \n",
        "  a specified number of 0 values at the beginning</td></tr>\n",
        "</tbody></table>"
      ],
      "metadata": {
        "id": "hajsH9WPmD8c"
      }
    },
    {
      "cell_type": "markdown",
      "source": [
        "# if Else and Boolean Variables\n",
        "\n",
        "## Python Conditions and If statements\n",
        "Python supports the usual logical conditions from mathematics:\n",
        "\n",
        "* Equals: a == b\n",
        "* Not Equals: a != b\n",
        "* Less than: a < b\n",
        "* Less than or equal to: a <= b\n",
        "* Greater than: a > b\n",
        "* Greater than or equal to: a >= b\n",
        "* These conditions can be used in several ways, most commonly in \"if statements\" and loops.\n",
        "\n",
        "An \"if statement\" is written by using the if keyword.\n",
        "\n",
        "\n",
        "```\n",
        "a = 200\n",
        "b = 33\n",
        "if b > a:\n",
        "  print(\"b is greater than a\")\n",
        "elif a == b:\n",
        "  print(\"a and b are equal\")\n",
        "else:\n",
        "  print(\"a is greater than b\")\n",
        "```\n",
        "\n"
      ],
      "metadata": {
        "id": "w5ILUp5hpHZ0"
      }
    },
    {
      "cell_type": "markdown",
      "source": [
        "# Python Loops\n",
        "Python has two primitive loop commands:\n",
        "\n",
        "* while loops\n",
        "* for loops"
      ],
      "metadata": {
        "id": "Ft3gN5mL1AQI"
      }
    },
    {
      "cell_type": "markdown",
      "source": [
        "## The while Loop\n",
        "With the while loop we can execute a set of statements as long as a condition is true."
      ],
      "metadata": {
        "id": "Cz5jtfsH1u_V"
      }
    },
    {
      "cell_type": "code",
      "source": [
        "i = 1\n",
        "while i < 6:\n",
        "  print(i)\n",
        "  i += 1"
      ],
      "metadata": {
        "id": "wzMHOFp0pCc9"
      },
      "execution_count": null,
      "outputs": []
    },
    {
      "cell_type": "markdown",
      "source": [
        "### The break Statement\n",
        "With the break statement we can stop the loop even if the while condition is true:"
      ],
      "metadata": {
        "id": "kamikbbx1OjQ"
      }
    },
    {
      "cell_type": "code",
      "source": [
        "i = 1\n",
        "while i < 6:\n",
        "  print(i)\n",
        "  if i == 3:\n",
        "    break\n",
        "  i += 1"
      ],
      "metadata": {
        "colab": {
          "base_uri": "https://localhost:8080/"
        },
        "id": "s_v4jEsh1QJm",
        "outputId": "a88aadb8-3fb2-41ae-945d-8341f58babf2"
      },
      "execution_count": null,
      "outputs": [
        {
          "output_type": "stream",
          "name": "stdout",
          "text": [
            "1\n",
            "2\n",
            "3\n"
          ]
        }
      ]
    },
    {
      "cell_type": "markdown",
      "source": [
        "### The continue Statement\n",
        "With the continue statement we can stop the current iteration, and continue with the next:"
      ],
      "metadata": {
        "id": "qkHr4-101SVY"
      }
    },
    {
      "cell_type": "code",
      "source": [
        "i = 0\n",
        "while i < 6:\n",
        "  i += 1\n",
        "  if i == 3:\n",
        "    continue\n",
        "  print(i)"
      ],
      "metadata": {
        "colab": {
          "base_uri": "https://localhost:8080/"
        },
        "id": "EwJ2VK2W1Usw",
        "outputId": "73cb4f97-28dd-400f-b1e5-fdcf2299e358"
      },
      "execution_count": null,
      "outputs": [
        {
          "output_type": "stream",
          "name": "stdout",
          "text": [
            "1\n",
            "2\n",
            "4\n",
            "5\n",
            "6\n"
          ]
        }
      ]
    },
    {
      "cell_type": "markdown",
      "source": [
        "### The else Statement\n",
        "With the else statement we can run a block of code once when the condition no longer is true:"
      ],
      "metadata": {
        "id": "jGSUa3Of1ccY"
      }
    },
    {
      "cell_type": "code",
      "source": [
        "i = 1\n",
        "while i < 6:\n",
        "  print(i)\n",
        "  i += 1\n",
        "else:\n",
        "  print(\"i is no longer less than 6\")"
      ],
      "metadata": {
        "colab": {
          "base_uri": "https://localhost:8080/"
        },
        "id": "I2d4Anb51W73",
        "outputId": "b08b27ab-c34f-4bc7-fbb2-c47f8884b4a2"
      },
      "execution_count": null,
      "outputs": [
        {
          "output_type": "stream",
          "name": "stdout",
          "text": [
            "1\n",
            "2\n",
            "3\n",
            "4\n",
            "5\n",
            "i is no longer less than 6\n"
          ]
        }
      ]
    },
    {
      "cell_type": "markdown",
      "source": [
        "## Python For Loops\n",
        "A for loop is used for iterating over a sequence (that is either a list, a tuple, a dictionary, a set, or a string)."
      ],
      "metadata": {
        "id": "EYEhAR_M1nAS"
      }
    },
    {
      "cell_type": "code",
      "source": [
        "fruits = [\"apple\", \"banana\", \"cherry\"]\n",
        "for x in fruits:\n",
        "  print(x)"
      ],
      "metadata": {
        "id": "2xmzeUo_1fqj"
      },
      "execution_count": null,
      "outputs": []
    },
    {
      "cell_type": "code",
      "source": [
        "for x in \"banana\":\n",
        "  print(x)"
      ],
      "metadata": {
        "id": "RWLnywpv15Is"
      },
      "execution_count": null,
      "outputs": []
    },
    {
      "cell_type": "markdown",
      "source": [
        "### The range() Function\n",
        "To loop through a set of code a specified number of times, we can use the range() function,\n",
        "The range() function returns a sequence of numbers, starting from 0 by default, and increments by 1 (by default), and ends at a specified number."
      ],
      "metadata": {
        "id": "wJI2mO9Y2C0_"
      }
    },
    {
      "cell_type": "code",
      "source": [
        "for x in range(6):\n",
        "  print(x)"
      ],
      "metadata": {
        "id": "Qcx2OkFr19t3"
      },
      "execution_count": null,
      "outputs": []
    },
    {
      "cell_type": "markdown",
      "source": [
        "# Python Functions\n",
        "### Creating a Function\n",
        "In Python a function is defined using the def keyword:"
      ],
      "metadata": {
        "id": "kWQcLyo_2IP_"
      }
    },
    {
      "cell_type": "code",
      "source": [
        "def my_function():\n",
        "  print(\"Hello from myfunction\")\n",
        "\n",
        "my_function()"
      ],
      "metadata": {
        "id": "LSt7wJZB2fT0"
      },
      "execution_count": null,
      "outputs": []
    },
    {
      "cell_type": "code",
      "source": [
        "def my_function(fname, lname):\n",
        "  print(fname + \" \" + lname)\n",
        "\n",
        "my_function(\"Cherif\", \"Bali\")"
      ],
      "metadata": {
        "id": "k6pHSvJ44vps"
      },
      "execution_count": null,
      "outputs": []
    },
    {
      "cell_type": "code",
      "source": [
        "def my_function(country = \"Algeria\"):\n",
        "  print(\"I am from \" + country)\n",
        "\n",
        "my_function(\"Sweden\")\n",
        "my_function(\"India\")\n",
        "my_function()\n",
        "my_function(\"Brazil\")"
      ],
      "metadata": {
        "id": "Rmx-ygFk4OdS"
      },
      "execution_count": null,
      "outputs": []
    },
    {
      "cell_type": "code",
      "source": [
        "def my_function(x):\n",
        "  return 5 * x\n",
        "\n",
        "print(my_function(3))\n",
        "print(my_function(5))\n",
        "print(my_function(9))"
      ],
      "metadata": {
        "id": "ZthjD9ms4Lbq"
      },
      "execution_count": null,
      "outputs": []
    },
    {
      "cell_type": "code",
      "source": [
        "def my_function(food):\n",
        "  for x in food:\n",
        "    print(x)\n",
        "\n",
        "fruits = [\"apple\", \"banana\", \"cherry\", \"berboucha\"]\n",
        "\n",
        "my_function(fruits)"
      ],
      "metadata": {
        "id": "2_bzOCIt4MXE"
      },
      "execution_count": null,
      "outputs": []
    },
    {
      "cell_type": "markdown",
      "source": [
        "# Lambda \n",
        "A lambda function is a small anonymous function.\n",
        "A lambda function can take any number of arguments, but can only have one expression.\n",
        "\n",
        "*Syntax:*\n",
        "```\n",
        "lambda arguments : expression\n",
        "```\n",
        "\n"
      ],
      "metadata": {
        "id": "M7_4ftBM5IWm"
      }
    },
    {
      "cell_type": "code",
      "source": [
        "x = lambda a : a + 10\n",
        "print(x(5))"
      ],
      "metadata": {
        "id": "U9mV0UvO5gJ7"
      },
      "execution_count": null,
      "outputs": []
    },
    {
      "cell_type": "code",
      "source": [
        "x = lambda a, b : a * b\n",
        "print(x(5, 6))"
      ],
      "metadata": {
        "id": "wt_QPMvi5l2L"
      },
      "execution_count": null,
      "outputs": []
    },
    {
      "cell_type": "markdown",
      "source": [
        "## Why Use Lambda Functions?\n",
        "The power of lambda is better shown when you use them as an anonymous function inside another function.\n",
        "\n",
        "Say you have a function definition that takes one argument, and that argument will be multiplied with an unknown number:"
      ],
      "metadata": {
        "id": "sFQpJuCs5qMY"
      }
    },
    {
      "cell_type": "code",
      "source": [
        "def myfunc(n):\n",
        "  return lambda a : a * n"
      ],
      "metadata": {
        "id": "r-adQ1Nb5sXU"
      },
      "execution_count": null,
      "outputs": []
    },
    {
      "cell_type": "markdown",
      "source": [
        "use the same function definition to make both functions, in the same program:"
      ],
      "metadata": {
        "id": "Q551hM7h6Lyq"
      }
    },
    {
      "cell_type": "code",
      "source": [
        "def myfunc(n):\n",
        "  return lambda a : a * n\n",
        "\n",
        "mydoubler = myfunc(2)\n",
        "mytripler = myfunc(3)\n",
        "\n",
        "print(mydoubler(11))\n",
        "print(mytripler(11))"
      ],
      "metadata": {
        "colab": {
          "base_uri": "https://localhost:8080/"
        },
        "id": "fGnend9_6Mg9",
        "outputId": "dad8d569-40d2-43a2-912d-8ef763cd97bd"
      },
      "execution_count": null,
      "outputs": [
        {
          "output_type": "stream",
          "name": "stdout",
          "text": [
            "22\n",
            "33\n"
          ]
        }
      ]
    },
    {
      "cell_type": "code",
      "source": [],
      "metadata": {
        "id": "8nFU_cSo6OXN"
      },
      "execution_count": null,
      "outputs": []
    },
    {
      "cell_type": "markdown",
      "source": [
        "# Python Classes/Objects\n",
        "\n",
        "Python is an object oriented programming language.\n",
        "Almost everything in Python is an object, with its properties and methods.\n",
        "A Class is like an object constructor, or a \"blueprint\" for creating objects.\n",
        "\n",
        "## Create a Class\n",
        "To create a class, use the keyword class:"
      ],
      "metadata": {
        "id": "-BZpG0jD5ptG"
      }
    },
    {
      "cell_type": "code",
      "source": [
        "class MyClass:   # create class Myclass\n",
        "  x = 5          # property  x\n",
        "\n",
        "p1 = MyClass() # create a Myclass object \n",
        "print(p1.x)    # access to property of the class "
      ],
      "metadata": {
        "id": "4Y2z43QL5zDM"
      },
      "execution_count": null,
      "outputs": []
    },
    {
      "cell_type": "markdown",
      "source": [
        "## The __init__( ) Function\n",
        "The examples above are classes and objects in their simplest form, and are not really useful in real life applications.\n",
        "\n",
        "To understand the meaning of classes we have to understand the built-in ***__init__()*** function.\n",
        "\n",
        "All classes have a function called ***__init__()***, which is always executed when the class is being initiated.\n",
        "\n",
        "Use the ***__init__()*** function to assign values to object properties, or other operations that are necessary to do when the object is being created:"
      ],
      "metadata": {
        "id": "HwpZ4oqQ6Vb0"
      }
    },
    {
      "cell_type": "code",
      "source": [
        "class Person:\n",
        "  def __init__(self, name, age): # Note: The __init__() function is called automatically every time the class is being used to create a new object.\n",
        "    self.name = name\n",
        "    self.age = age\n",
        "\n",
        "p1 = Person(\"John\", 36)\n",
        "\n",
        "print(p1.name)\n",
        "print(p1.age)"
      ],
      "metadata": {
        "colab": {
          "base_uri": "https://localhost:8080/"
        },
        "id": "rWIuffEg6gfi",
        "outputId": "0f34ab91-7d0e-4c6c-f3af-5aef1ba05058"
      },
      "execution_count": null,
      "outputs": [
        {
          "output_type": "stream",
          "name": "stdout",
          "text": [
            "John\n",
            "36\n"
          ]
        }
      ]
    },
    {
      "cell_type": "markdown",
      "source": [
        "## Lists\n",
        "\n",
        "Lists are used to store multiple items in a single variable.\n",
        "\n",
        "Lists are one of 4 built-in data types in Python used to store collections of data, the other 3 are **Tuple**, **Set**, and **Dictionary**, all with different qualities and usage.\n",
        "\n",
        "* **Ordered:**\n",
        "\n",
        "When we say that lists are ordered, it means that the items have a defined order, and that order will not change.\n",
        "\n",
        "If you add new items to a list, the new items will be placed at the end of the list.\n",
        "\n",
        "* **Changeable:**\n",
        "\n",
        "The list is changeable, meaning that we can change, add, and remove items in a list after it has been created.\n",
        "\n",
        "* **Allow Duplicates:**\n",
        "\n",
        "Since lists are indexed, lists can have items with the same value:"
      ],
      "metadata": {
        "id": "sFBybRjS779U"
      }
    },
    {
      "cell_type": "markdown",
      "source": [
        "# Python Collections (Arrays)\n",
        "\n",
        "There are four collection data types in the Python programming language:\n",
        "\n",
        "* **List** is a collection which is ordered and changeable. Allows duplicate members.\n",
        "* **Tuple** is a collection which is ordered and unchangeable. Allows duplicate members.\n",
        "* **Set** is a collection which is unordered, unchangeable*, and unindexed. No duplicate members.\n",
        "* **Dictionary** is a collection which is ordered** and changeable. No duplicate members."
      ],
      "metadata": {
        "id": "4cTD_ntS9Cg7"
      }
    },
    {
      "cell_type": "markdown",
      "source": [
        "## List Comprehension\n",
        "List comprehension offers a shorter syntax when you want to create a new list based on the values of an existing list.\n",
        "\n",
        "\n",
        "\n",
        "***The Syntax:***\n",
        "```\n",
        "newlist = [expression for item in iterable if condition == True]\n",
        "```\n",
        "\n",
        "Example:\n",
        "Based on a list of fruits, you want a new list, containing only the fruits with the letter \"a\" in the name.\n",
        "\n",
        "Without list comprehension you will have to write a for statement with a conditional test inside:"
      ],
      "metadata": {
        "id": "-9F1FT7b-WpY"
      }
    },
    {
      "cell_type": "code",
      "source": [
        "fruits = [\"apple\", \"banana\", \"cherry\", \"kiwi\", \"mango\"]\n",
        "newlist = []\n",
        "\n",
        "for x in fruits:\n",
        "  if \"a\" in x:\n",
        "    newlist.append(x)\n",
        "\n",
        "print(newlist)"
      ],
      "metadata": {
        "id": "54gqUMA6-IVD"
      },
      "execution_count": null,
      "outputs": []
    },
    {
      "cell_type": "markdown",
      "source": [
        "With list comprehension you can do all that with only one line of code:"
      ],
      "metadata": {
        "id": "85SnWutS-bjI"
      }
    },
    {
      "cell_type": "code",
      "source": [
        "fruits = [\"apple\", \"banana\", \"cherry\", \"kiwi\", \"mango\"]\n",
        "\n",
        "newlist = [x for x in fruits if \"a\" in x]\n",
        "\n",
        "print(newlist)"
      ],
      "metadata": {
        "id": "HOkwCdjJ-eHB"
      },
      "execution_count": null,
      "outputs": []
    },
    {
      "cell_type": "markdown",
      "source": [
        "## List Methods\n",
        "Python has a set of built-in methods that you can use on lists.\n",
        "\n",
        "<table class=\"ws-table-all notranslate\">\n",
        "<tbody><tr>\n",
        "<th>Method</th>\n",
        "<th>Description</th>\n",
        "</tr>\n",
        "<tr><td><a >append()</a></td><td>Adds an element at \n",
        "  the end of the list</td></tr>\n",
        "<tr><td><a >clear()</a></td><td>Removes all the \n",
        "  elements from the list</td></tr>\n",
        "<tr><td><a >copy()</a></td><td>Returns a copy of the \n",
        "  list</td></tr>\n",
        "<tr><td><a >count()</a></td><td>Returns the number of \n",
        "  elements with the specified value</td></tr>\n",
        "<tr><td><a >extend()</a></td><td>Add the elements of a \n",
        "  list (or any iterable), to the end of the current list</td></tr>\n",
        "<tr><td><a >index()</a></td><td>Returns the index of \n",
        "  the first element with the specified value</td></tr>\n",
        "<tr><td><a >insert()</a></td><td>Adds an element at \n",
        "  the specified position</td></tr>\n",
        "<tr><td><a >pop()</a></td><td>Removes the element at the \n",
        "  specified position</td></tr>\n",
        "<tr><td><a>remove()</a></td><td>Removes the  \n",
        "  item with the specified value</td></tr>\n",
        "<tr><td><a>reverse()</a></td><td>Reverses the order \n",
        "  of the list</td></tr>\n",
        "<tr><td><a>sort()</a></td><td>Sorts the list</td></tr>\n",
        "</tbody></table>"
      ],
      "metadata": {
        "id": "-zelWxqe_bsp"
      }
    },
    {
      "cell_type": "code",
      "source": [],
      "metadata": {
        "id": "1bhgylQV_fjB"
      },
      "execution_count": null,
      "outputs": []
    },
    {
      "cell_type": "markdown",
      "source": [
        "## Tuple Method\n",
        "<table class=\"ws-table-all notranslate\">\n",
        "<tbody><tr>\n",
        "<th style=\"width:20%\">Method</th>\n",
        "<th>Description</th>\n",
        "</tr>\n",
        "<tr><td><a>count()</a></td><td>Returns the number of times a specified value occurs in a tuple</td></tr>\n",
        "<tr><td><a>index()</a></td><td>Searches the tuple for a specified value and returns the position of where it was found</td></tr>\n",
        "</tbody></table>"
      ],
      "metadata": {
        "id": "m7TNNxhKRRkM"
      }
    },
    {
      "cell_type": "code",
      "source": [
        "dir(tuple)"
      ],
      "metadata": {
        "colab": {
          "base_uri": "https://localhost:8080/"
        },
        "id": "f62k65ycRb5H",
        "outputId": "bdb98a39-1914-4bab-da57-eb3393dc4d2e"
      },
      "execution_count": 1,
      "outputs": [
        {
          "output_type": "execute_result",
          "data": {
            "text/plain": [
              "['__add__',\n",
              " '__class__',\n",
              " '__contains__',\n",
              " '__delattr__',\n",
              " '__dir__',\n",
              " '__doc__',\n",
              " '__eq__',\n",
              " '__format__',\n",
              " '__ge__',\n",
              " '__getattribute__',\n",
              " '__getitem__',\n",
              " '__getnewargs__',\n",
              " '__gt__',\n",
              " '__hash__',\n",
              " '__init__',\n",
              " '__init_subclass__',\n",
              " '__iter__',\n",
              " '__le__',\n",
              " '__len__',\n",
              " '__lt__',\n",
              " '__mul__',\n",
              " '__ne__',\n",
              " '__new__',\n",
              " '__reduce__',\n",
              " '__reduce_ex__',\n",
              " '__repr__',\n",
              " '__rmul__',\n",
              " '__setattr__',\n",
              " '__sizeof__',\n",
              " '__str__',\n",
              " '__subclasshook__',\n",
              " 'count',\n",
              " 'index']"
            ]
          },
          "metadata": {},
          "execution_count": 1
        }
      ]
    },
    {
      "cell_type": "code",
      "source": [],
      "metadata": {
        "id": "ILxK0iBeSC0-"
      },
      "execution_count": null,
      "outputs": []
    },
    {
      "cell_type": "markdown",
      "source": [
        "# Dictionary\n",
        "Dictionaries are used to store data values in key:value pairs.\n",
        "\n",
        "A dictionary is a collection which is ordered*, changeable and do not allow duplicates."
      ],
      "metadata": {
        "id": "bggQrkQtS8LD"
      }
    },
    {
      "cell_type": "code",
      "source": [
        "thisdict = {\n",
        "  \"brand\": \"Ford\",\n",
        "  \"model\": \"Mustang\",\n",
        "  \"year\": 1964\n",
        "}\n",
        "print(thisdict[\"brand\"])"
      ],
      "metadata": {
        "colab": {
          "base_uri": "https://localhost:8080/"
        },
        "id": "jgeWE57jS9xn",
        "outputId": "fa6aab7f-8ae8-40d9-d098-abe998a8feb8"
      },
      "execution_count": 2,
      "outputs": [
        {
          "output_type": "stream",
          "name": "stdout",
          "text": [
            "Ford\n"
          ]
        }
      ]
    },
    {
      "cell_type": "code",
      "source": [
        "# Duplicate values will overwrite existing values:\n",
        "thisdict = {\n",
        "  \"brand\": \"Ford\",\n",
        "  \"model\": \"Mustang\",\n",
        "  \"year\": 1964,\n",
        "  \"year\": 2020\n",
        "}\n",
        "print(thisdict)"
      ],
      "metadata": {
        "colab": {
          "base_uri": "https://localhost:8080/"
        },
        "id": "psOxMCC2TFbb",
        "outputId": "75f2fb71-72c3-4e48-dc01-c1e4e8fd14bd"
      },
      "execution_count": 3,
      "outputs": [
        {
          "output_type": "stream",
          "name": "stdout",
          "text": [
            "{'brand': 'Ford', 'model': 'Mustang', 'year': 2020}\n"
          ]
        }
      ]
    },
    {
      "cell_type": "code",
      "source": [],
      "metadata": {
        "id": "LxipzAHeTLPW"
      },
      "execution_count": null,
      "outputs": []
    }
  ]
}