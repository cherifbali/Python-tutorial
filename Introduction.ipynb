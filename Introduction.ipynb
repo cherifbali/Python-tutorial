{
  "cells": [
    {
      "cell_type": "markdown",
      "metadata": {
        "id": "Iaxu5dv0J3Vb"
      },
      "source": [
        "#  Introduction\n",
        "## What is Python ❔\n",
        "Python is a popular programming language. It was created by Guido van Rossum, and released in 1991.\n",
        "\n",
        "**It is used for:**\n",
        "* web development (server-side) like Django fw\n",
        "* software development\n",
        "* mathematics, Data science and Machine Leaning\n",
        "* system scripting\n",
        "\n",
        "## What can Python do?\n",
        "* Python can be used on a server to create web applications.\n",
        "* Python can be used alongside software to create workflows.\n",
        "* Python can connect to database systems. It can also read and modify files.\n",
        "* Python can be used to handle big data and perform complex mathematics.\n",
        "* Python can be used for rapid prototyping, or for production-ready software development.\n",
        "\n",
        "## Why Python?\n",
        "* Python works on different platforms (Windows, Mac, Linux, Raspberry Pi, etc).\n",
        "* Python has a simple syntax similar to the English language.\n",
        "* Python has syntax that allows developers to write programs with fewer lines than some other programming languages.\n",
        "* Python runs on an interpreter system, meaning that code can be executed as * * soon as it is written. This means that prototyping can be very quick.\n",
        "* Python can be treated in a procedural way, an object-oriented way or a functional way.\n",
        "\n",
        "## Good to know\n",
        "* In this tutorial Python will be written in a Notebook. It is possible to write Python in an Integrated Development Environment, such as Thonny, Pycharm, Netbeans or Eclipse which are particularly useful when managing larger collections of Python files.\n",
        "\n",
        "## Python Syntax compared to other programming languages\n",
        "* Python was designed for readability, and has some similarities to the English language with influence from mathematics.\n",
        "* Python uses new lines to complete a command, as opposed to other programming languages which often use semicolons or parentheses.\n",
        "* Python relies on indentation, using whitespace, to define scope; such as the scope of loops, functions and classes. Other programming languages often use curly-brackets for this purpose."
      ]
    }
  ],
  "metadata": {
    "colab": {
      "collapsed_sections": [],
      "provenance": []
    },
    "kernelspec": {
      "display_name": "Python 3.9.1 64-bit",
      "language": "python",
      "name": "python3"
    },
    "language_info": {
      "name": "python",
      "version": "3.9.1"
    },
    "vscode": {
      "interpreter": {
        "hash": "f1b06d30e20825e5dfd6799bd15ff52422ead1164ed60b8ad4d7aabebfe22365"
      }
    }
  },
  "nbformat": 4,
  "nbformat_minor": 0
}
